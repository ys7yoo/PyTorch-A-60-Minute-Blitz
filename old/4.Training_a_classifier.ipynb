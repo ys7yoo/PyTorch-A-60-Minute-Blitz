{
 "cells": [
  {
   "cell_type": "markdown",
   "metadata": {},
   "source": [
    "# Training a classifier"
   ]
  },
  {
   "cell_type": "markdown",
   "metadata": {},
   "source": [
    "## What about data?"
   ]
  },
  {
   "cell_type": "markdown",
   "metadata": {},
   "source": [
    "- For images, packages such as Pillow, OpenCV are useful.\n",
    "    - 画像ならPillowかOpenCV\n",
    "- For audio, packages such as scipy and librosa\n",
    "    - 音声ならscipyとlibrosa\n",
    "- For text, either raw Python or Cython based loading, or NLTK and SpaCy are useful.\n",
    "    - テキストなら生パイソンかcythonで読み込むか、NLTKとsSpaCyが便利"
   ]
  },
  {
   "cell_type": "code",
   "execution_count": null,
   "metadata": {
    "collapsed": true
   },
   "outputs": [],
   "source": []
  },
  {
   "cell_type": "markdown",
   "metadata": {},
   "source": [
    "## Training an image classifier"
   ]
  },
  {
   "cell_type": "markdown",
   "metadata": {},
   "source": [
    "1. Load and normalizing the CIFAR10 training and test datasets using torchvision\n",
    "2. Define a Convolution Neural Network\n",
    "3. Define a loss function\n",
    "4. Train the network on the training data\n",
    "5. Test the network on the test data"
   ]
  },
  {
   "cell_type": "markdown",
   "metadata": {},
   "source": [
    "### 1. Loading and normalizing CIFAR10"
   ]
  },
  {
   "cell_type": "code",
   "execution_count": 1,
   "metadata": {
    "collapsed": true
   },
   "outputs": [],
   "source": [
    "import torch\n",
    "import torchvision\n",
    "import torchvision.transforms as transforms"
   ]
  },
  {
   "cell_type": "code",
   "execution_count": 2,
   "metadata": {
    "collapsed": true
   },
   "outputs": [],
   "source": [
    "transform = transforms.Compose(\n",
    "    [transforms.ToTensor(),\n",
    "     transforms.Normalize((0.5, 0.5, 0.5), (0.5, 0.5, 0.5))])"
   ]
  },
  {
   "cell_type": "code",
   "execution_count": 3,
   "metadata": {},
   "outputs": [
    {
     "data": {
      "text/plain": [
       "<torchvision.transforms.Compose at 0x7fc93dda0be0>"
      ]
     },
     "execution_count": 3,
     "metadata": {},
     "output_type": "execute_result"
    }
   ],
   "source": [
    "transform"
   ]
  },
  {
   "cell_type": "code",
   "execution_count": 4,
   "metadata": {},
   "outputs": [
    {
     "name": "stdout",
     "output_type": "stream",
     "text": [
      "Downloading http://www.cs.toronto.edu/~kriz/cifar-10-python.tar.gz to ./data/cifar-10-python.tar.gz\n"
     ]
    }
   ],
   "source": [
    "trainset = torchvision.datasets.CIFAR10(root='./data', train=True,\n",
    "                                        download=True, transform=transform)\n",
    "trainloader = torch.utils.data.DataLoader(trainset, batch_size=4,\n",
    "                                          shuffle=True, num_workers=2)"
   ]
  },
  {
   "cell_type": "code",
   "execution_count": 5,
   "metadata": {},
   "outputs": [
    {
     "name": "stdout",
     "output_type": "stream",
     "text": [
      "Files already downloaded and verified\n"
     ]
    }
   ],
   "source": [
    "testset = torchvision.datasets.CIFAR10(root='./data', train=False,\n",
    "                                       download=True, transform=transform)\n",
    "testloader = torch.utils.data.DataLoader(testset, batch_size=4,\n",
    "                                         shuffle=False, num_workers=2)"
   ]
  },
  {
   "cell_type": "code",
   "execution_count": 6,
   "metadata": {
    "collapsed": true
   },
   "outputs": [],
   "source": [
    "classes = ('plane', 'car', 'bird', 'cat',\n",
    "           'deer', 'dog', 'frog', 'horse', 'ship', 'truck')"
   ]
  },
  {
   "cell_type": "markdown",
   "metadata": {},
   "source": [
    "画像を見てみる"
   ]
  },
  {
   "cell_type": "code",
   "execution_count": 10,
   "metadata": {},
   "outputs": [
    {
     "name": "stdout",
     "output_type": "stream",
     "text": [
      "plane plane   car  deer\n"
     ]
    },
    {
     "data": {
      "image/png": "[encoded data removed]",
      "text/plain": [
       "<matplotlib.figure.Figure at 0x7fc93ddcc320>"
      ]
     },
     "metadata": {},
     "output_type": "display_data"
    }
   ],
   "source": [
    "%matplotlib inline\n",
    "import matplotlib.pyplot as plt\n",
    "import numpy as np\n",
    "\n",
    "# functions to show an image\n",
    "\n",
    "\n",
    "def imshow(img):\n",
    "    img = img / 2 + 0.5     # unnormalize\n",
    "    npimg = img.numpy()\n",
    "    plt.imshow(np.transpose(npimg, (1, 2, 0)))\n",
    "\n",
    "\n",
    "# get some random training images\n",
    "dataiter = iter(trainloader)\n",
    "images, labels = dataiter.next()\n",
    "\n",
    "# show images\n",
    "imshow(torchvision.utils.make_grid(images))\n",
    "# print labels\n",
    "print(' '.join('%5s' % classes[labels[j]] for j in range(4)))"
   ]
  },
  {
   "cell_type": "markdown",
   "metadata": {},
   "source": [
    "### 2. Define a Convolution Neural Network"
   ]
  },
  {
   "cell_type": "code",
   "execution_count": 7,
   "metadata": {
    "collapsed": true
   },
   "outputs": [],
   "source": [
    "from torch.autograd import Variable\n",
    "import torch.nn as nn\n",
    "import torch.nn.functional as F"
   ]
  },
  {
   "cell_type": "code",
   "execution_count": 8,
   "metadata": {
    "collapsed": true
   },
   "outputs": [],
   "source": [
    "class Net(nn.Module):\n",
    "    def __init__(self):\n",
    "        super(Net, self).__init__()\n",
    "        self.conv1 = nn.Conv2d(3, 6, 5)\n",
    "        self.pool = nn.MaxPool2d(2, 2)\n",
    "        self.conv2 = nn.Conv2d(6, 16, 5)\n",
    "        self.fc1 = nn.Linear(16 * 5 * 5, 120)\n",
    "        self.fc2 = nn.Linear(120, 84)\n",
    "        self.fc3 = nn.Linear(84, 10)\n",
    "\n",
    "    def forward(self, x):\n",
    "        x = self.pool(F.relu(self.conv1(x)))\n",
    "        x = self.pool(F.relu(self.conv2(x)))\n",
    "        x = x.view(-1, 16 * 5 * 5)\n",
    "        x = F.relu(self.fc1(x))\n",
    "        x = F.relu(self.fc2(x))\n",
    "        x = self.fc3(x)\n",
    "        return x"
   ]
  },
  {
   "cell_type": "code",
   "execution_count": 12,
   "metadata": {},
   "outputs": [
    {
     "data": {
      "text/plain": [
       "Net (\n",
       "  (conv1): Conv2d(3, 6, kernel_size=(5, 5), stride=(1, 1))\n",
       "  (pool): MaxPool2d (size=(2, 2), stride=(2, 2), dilation=(1, 1))\n",
       "  (conv2): Conv2d(6, 16, kernel_size=(5, 5), stride=(1, 1))\n",
       "  (fc1): Linear (400 -> 120)\n",
       "  (fc2): Linear (120 -> 84)\n",
       "  (fc3): Linear (84 -> 10)\n",
       ")"
      ]
     },
     "execution_count": 12,
     "metadata": {},
     "output_type": "execute_result"
    }
   ],
   "source": [
    "net = Net()\n",
    "\n",
    "net"
   ]
  },
  {
   "cell_type": "markdown",
   "metadata": {},
   "source": [
    "### 3. Define a Loss function and optimizer"
   ]
  },
  {
   "cell_type": "markdown",
   "metadata": {},
   "source": [
    "クロスエントロピーを損失関数に\n",
    "\n",
    "SGDをOptimizerに設定"
   ]
  },
  {
   "cell_type": "code",
   "execution_count": 13,
   "metadata": {
    "collapsed": true
   },
   "outputs": [],
   "source": [
    "import torch.optim as optim\n",
    "\n",
    "criterion = nn.CrossEntropyLoss()\n",
    "optimizer = optim.SGD(net.parameters(), lr=0.001, momentum=0.9)"
   ]
  },
  {
   "cell_type": "markdown",
   "metadata": {},
   "source": [
    "### 4. Train the network"
   ]
  },
  {
   "cell_type": "code",
   "execution_count": 14,
   "metadata": {},
   "outputs": [
    {
     "name": "stdout",
     "output_type": "stream",
     "text": [
      "[1,  2000] loss: 2.218\n",
      "[1,  4000] loss: 1.874\n",
      "[1,  6000] loss: 1.661\n",
      "[1,  8000] loss: 1.560\n",
      "[1, 10000] loss: 1.500\n",
      "[1, 12000] loss: 1.456\n",
      "[2,  2000] loss: 1.408\n",
      "[2,  4000] loss: 1.355\n",
      "[2,  6000] loss: 1.337\n",
      "[2,  8000] loss: 1.325\n",
      "[2, 10000] loss: 1.295\n",
      "[2, 12000] loss: 1.299\n",
      "Finished Training\n"
     ]
    }
   ],
   "source": [
    "for epoch in range(2):  # loop over the dataset multiple times\n",
    "\n",
    "    running_loss = 0.0\n",
    "    for i, data in enumerate(trainloader, 0):\n",
    "        # get the inputs\n",
    "        inputs, labels = data\n",
    "\n",
    "        # wrap them in Variable\n",
    "        inputs, labels = Variable(inputs), Variable(labels)\n",
    "\n",
    "        # zero the parameter gradients\n",
    "        optimizer.zero_grad()\n",
    "\n",
    "        # forward + backward + optimize\n",
    "        outputs = net(inputs)\n",
    "        loss = criterion(outputs, labels)\n",
    "        loss.backward()\n",
    "        optimizer.step()\n",
    "\n",
    "        # print statistics\n",
    "        running_loss += loss.data[0]\n",
    "        if i % 2000 == 1999:    # print every 2000 mini-batches\n",
    "            print('[%d, %5d] loss: %.3f' %\n",
    "                  (epoch + 1, i + 1, running_loss / 2000))\n",
    "            running_loss = 0.0\n",
    "\n",
    "print('Finished Training')"
   ]
  },
  {
   "cell_type": "markdown",
   "metadata": {},
   "source": [
    "### 5. Test the network on the test data"
   ]
  },
  {
   "cell_type": "markdown",
   "metadata": {},
   "source": [
    "NNが学習したものを見てみる"
   ]
  },
  {
   "cell_type": "code",
   "execution_count": 16,
   "metadata": {},
   "outputs": [
    {
     "name": "stdout",
     "output_type": "stream",
     "text": [
      "GroundTruth:    cat  ship  ship plane\n"
     ]
    },
    {
     "data": {
      "image/png": "[encoded data removed]",
      "text/plain": [
       "<matplotlib.figure.Figure at 0x7fc92eb7b668>"
      ]
     },
     "metadata": {},
     "output_type": "display_data"
    }
   ],
   "source": [
    "dataiter = iter(testloader)\n",
    "images, labels = dataiter.next()\n",
    "\n",
    "# print images\n",
    "imshow(torchvision.utils.make_grid(images))\n",
    "print('GroundTruth: ', ' '.join('%5s' % classes[labels[j]] for j in range(4)))"
   ]
  },
  {
   "cell_type": "markdown",
   "metadata": {},
   "source": [
    "どのクラスに分類されているか見てみる"
   ]
  },
  {
   "cell_type": "code",
   "execution_count": 17,
   "metadata": {
    "collapsed": true
   },
   "outputs": [],
   "source": [
    "outputs = net(Variable(images))"
   ]
  },
  {
   "cell_type": "code",
   "execution_count": 18,
   "metadata": {},
   "outputs": [
    {
     "name": "stdout",
     "output_type": "stream",
     "text": [
      "Predicted:    cat   car  ship plane\n"
     ]
    }
   ],
   "source": [
    "_, predicted = torch.max(outputs.data, 1)\n",
    "\n",
    "print('Predicted: ', ' '.join('%5s' % classes[predicted[j][0]]\n",
    "                              for j in range(4)))"
   ]
  },
  {
   "cell_type": "code",
   "execution_count": 19,
   "metadata": {},
   "outputs": [
    {
     "name": "stdout",
     "output_type": "stream",
     "text": [
      "Accuracy of plane : 51 %\n",
      "Accuracy of   car : 76 %\n",
      "Accuracy of  bird : 53 %\n",
      "Accuracy of   cat : 19 %\n",
      "Accuracy of  deer : 25 %\n",
      "Accuracy of   dog : 46 %\n",
      "Accuracy of  frog : 76 %\n",
      "Accuracy of horse : 55 %\n",
      "Accuracy of  ship : 68 %\n",
      "Accuracy of truck : 68 %\n"
     ]
    }
   ],
   "source": [
    "class_correct = list(0. for i in range(10))\n",
    "class_total = list(0. for i in range(10))\n",
    "for data in testloader:\n",
    "    images, labels = data\n",
    "    outputs = net(Variable(images))\n",
    "    _, predicted = torch.max(outputs.data, 1)\n",
    "    c = (predicted == labels).squeeze()\n",
    "    for i in range(4):\n",
    "        label = labels[i]\n",
    "        class_correct[label] += c[i]\n",
    "        class_total[label] += 1\n",
    "\n",
    "\n",
    "for i in range(10):\n",
    "    print('Accuracy of %5s : %2d %%' % (\n",
    "        classes[i], 100 * class_correct[i] / class_total[i]))"
   ]
  },
  {
   "cell_type": "markdown",
   "metadata": {},
   "source": [
    "## Training on GPU"
   ]
  },
  {
   "cell_type": "code",
   "execution_count": 20,
   "metadata": {},
   "outputs": [
    {
     "data": {
      "text/plain": [
       "Net (\n",
       "  (conv1): Conv2d(3, 6, kernel_size=(5, 5), stride=(1, 1))\n",
       "  (pool): MaxPool2d (size=(2, 2), stride=(2, 2), dilation=(1, 1))\n",
       "  (conv2): Conv2d(6, 16, kernel_size=(5, 5), stride=(1, 1))\n",
       "  (fc1): Linear (400 -> 120)\n",
       "  (fc2): Linear (120 -> 84)\n",
       "  (fc3): Linear (84 -> 10)\n",
       ")"
      ]
     },
     "execution_count": 20,
     "metadata": {},
     "output_type": "execute_result"
    }
   ],
   "source": [
    "net.cuda()"
   ]
  },
  {
   "cell_type": "code",
   "execution_count": 25,
   "metadata": {},
   "outputs": [
    {
     "ename": "RuntimeError",
     "evalue": "Variable data has to be a tensor, but got Variable",
     "output_type": "error",
     "traceback": [
      "\u001b[0;31m---------------------------------------------------------------------------\u001b[0m",
      "\u001b[0;31mRuntimeError\u001b[0m                              Traceback (most recent call last)",
      "\u001b[0;32m<ipython-input-25-59ae8a0828f7>\u001b[0m in \u001b[0;36m<module>\u001b[0;34m()\u001b[0m\n\u001b[0;32m----> 1\u001b[0;31m \u001b[0minputs\u001b[0m \u001b[0;34m=\u001b[0m \u001b[0mVariable\u001b[0m\u001b[0;34m(\u001b[0m\u001b[0minputs\u001b[0m\u001b[0;34m.\u001b[0m\u001b[0mcuda\u001b[0m\u001b[0;34m(\u001b[0m\u001b[0;34m)\u001b[0m\u001b[0;34m)\u001b[0m\u001b[0;34m\u001b[0m\u001b[0m\n\u001b[0m\u001b[1;32m      2\u001b[0m \u001b[0mlabels\u001b[0m \u001b[0;34m=\u001b[0m \u001b[0mVariable\u001b[0m\u001b[0;34m(\u001b[0m\u001b[0mlabels\u001b[0m\u001b[0;34m.\u001b[0m\u001b[0mcuda\u001b[0m\u001b[0;34m(\u001b[0m\u001b[0;34m)\u001b[0m\u001b[0;34m)\u001b[0m\u001b[0;34m\u001b[0m\u001b[0m\n",
      "\u001b[0;31mRuntimeError\u001b[0m: Variable data has to be a tensor, but got Variable"
     ]
    }
   ],
   "source": [
    "inputs = Variable(inputs.cuda())\n",
    "labels = Variable(labels.cuda())"
   ]
  },
  {
   "cell_type": "code",
   "execution_count": 24,
   "metadata": {},
   "outputs": [
    {
     "data": {
      "text/plain": [
       "Variable containing:\n",
       "(0 ,0 ,.,.) = \n",
       " -0.4431 -0.6000 -0.8275  ...   0.9294  0.9294  0.9294\n",
       " -0.5686 -0.7882 -0.8431  ...   0.9608  0.9608  0.9608\n",
       " -0.6392 -0.8275 -0.8353  ...   0.9451  0.9451  0.9529\n",
       "           ...             ⋱             ...          \n",
       " -0.3412 -0.3725 -0.4431  ...  -0.7961 -0.7647 -0.7569\n",
       " -0.1922 -0.2706 -0.2863  ...  -0.7961 -0.7569 -0.7098\n",
       " -0.2549 -0.2941 -0.2627  ...  -0.8431 -0.8588 -0.8196\n",
       "\n",
       "(0 ,1 ,.,.) = \n",
       " -0.4431 -0.6000 -0.8275  ...   0.9294  0.9294  0.9294\n",
       " -0.5686 -0.7882 -0.8431  ...   0.9608  0.9608  0.9608\n",
       " -0.6392 -0.8275 -0.8353  ...   0.9451  0.9451  0.9529\n",
       "           ...             ⋱             ...          \n",
       " -0.4275 -0.4588 -0.5294  ...  -0.7961 -0.7647 -0.7569\n",
       " -0.2784 -0.3569 -0.3725  ...  -0.7961 -0.7569 -0.7098\n",
       " -0.3412 -0.3804 -0.3412  ...  -0.8431 -0.8588 -0.8196\n",
       "\n",
       "(0 ,2 ,.,.) = \n",
       " -0.4431 -0.6000 -0.8275  ...   0.9294  0.9294  0.9294\n",
       " -0.5686 -0.7882 -0.8431  ...   0.9608  0.9608  0.9608\n",
       " -0.6392 -0.8275 -0.8353  ...   0.9451  0.9451  0.9529\n",
       "           ...             ⋱             ...          \n",
       " -0.4431 -0.4745 -0.5451  ...  -0.8118 -0.7804 -0.7725\n",
       " -0.2941 -0.3725 -0.3882  ...  -0.8118 -0.7725 -0.7255\n",
       " -0.3569 -0.3961 -0.3569  ...  -0.8588 -0.8745 -0.8353\n",
       "     ⋮ \n",
       "\n",
       "(1 ,0 ,.,.) = \n",
       "  0.1137  0.2549  0.1686  ...   0.0745 -0.0431  0.0353\n",
       "  0.2235  0.2078  0.2157  ...   0.1686  0.2392  0.2000\n",
       "  0.1922  0.0745  0.0118  ...   0.2235  0.4196  0.3333\n",
       "           ...             ⋱             ...          \n",
       " -0.6863 -0.6941 -0.6863  ...  -0.3882 -0.4118 -0.5294\n",
       " -0.7255 -0.7255 -0.7255  ...  -0.4824 -0.4980 -0.5529\n",
       " -0.5765 -0.5765 -0.5608  ...  -0.6706 -0.6706 -0.6314\n",
       "\n",
       "(1 ,1 ,.,.) = \n",
       "  0.3804  0.4902  0.4118  ...   0.3725  0.2706  0.3176\n",
       "  0.4588  0.4667  0.4902  ...   0.4353  0.4980  0.4196\n",
       "  0.4431  0.3333  0.2706  ...   0.4118  0.5686  0.4824\n",
       "           ...             ⋱             ...          \n",
       " -0.2941 -0.3020 -0.3020  ...  -0.5137 -0.5059 -0.4510\n",
       " -0.3490 -0.3569 -0.3569  ...  -0.5373 -0.5373 -0.4980\n",
       " -0.3176 -0.3176 -0.3020  ...  -0.3804 -0.3882 -0.4039\n",
       "\n",
       "(1 ,2 ,.,.) = \n",
       "  0.7882  0.8275  0.6392  ...   0.6941  0.5765  0.5765\n",
       "  0.8118  0.7882  0.7882  ...   0.6706  0.6863  0.6000\n",
       "  0.7569  0.6314  0.6000  ...   0.5608  0.6549  0.5686\n",
       "           ...             ⋱             ...          \n",
       " -0.1765 -0.1843 -0.1843  ...  -0.4353 -0.4275 -0.3255\n",
       " -0.2392 -0.2471 -0.2471  ...  -0.4353 -0.4353 -0.3725\n",
       " -0.2392 -0.2471 -0.2314  ...  -0.3490 -0.3569 -0.3490\n",
       "     ⋮ \n",
       "\n",
       "(2 ,0 ,.,.) = \n",
       "  0.9137  0.9216  0.8275  ...   0.1137  0.0824  0.0510\n",
       "  0.8824  0.8588  0.7412  ...   0.3176  0.3490  0.3412\n",
       "  0.9216  0.9451  0.8510  ...   0.3647  0.3647  0.3490\n",
       "           ...             ⋱             ...          \n",
       "  1.0000  1.0000  0.9922  ...  -0.7804 -0.6000 -0.4431\n",
       "  1.0000  1.0000  0.9843  ...  -0.7255 -0.5765 -0.4431\n",
       "  1.0000  1.0000  0.9922  ...  -0.5137 -0.4275 -0.3804\n",
       "\n",
       "(2 ,1 ,.,.) = \n",
       "  0.8745  0.8745  0.7098  ...   0.0118 -0.0196 -0.0510\n",
       "  0.8353  0.8039  0.6235  ...   0.2235  0.2549  0.2471\n",
       "  0.8745  0.8902  0.7333  ...   0.2784  0.2784  0.2549\n",
       "           ...             ⋱             ...          \n",
       "  0.9216  0.9294  0.9137  ...  -0.8667 -0.7020 -0.5137\n",
       "  0.9294  0.9294  0.9216  ...  -0.7804 -0.6314 -0.4902\n",
       "  0.9373  0.9451  0.9294  ...  -0.5451 -0.4588 -0.4118\n",
       "\n",
       "(2 ,2 ,.,.) = \n",
       "  0.9294  0.9216  0.7020  ...  -0.0902 -0.0980 -0.1059\n",
       "  0.8902  0.8118  0.5608  ...   0.0902  0.1451  0.1608\n",
       "  0.9059  0.8510  0.6078  ...   0.1216  0.1373  0.1373\n",
       "           ...             ⋱             ...          \n",
       "  0.9059  0.9137  0.8980  ...  -0.8745 -0.7255 -0.5451\n",
       "  0.9137  0.9137  0.8980  ...  -0.7961 -0.6549 -0.5137\n",
       "  0.9137  0.9137  0.9059  ...  -0.5686 -0.4824 -0.4353\n",
       "     ⋮ \n",
       "\n",
       "(3 ,0 ,.,.) = \n",
       "  0.5137  0.5059  0.5059  ...   0.4667  0.4824  0.4902\n",
       "  0.5529  0.5451  0.4980  ...   0.4667  0.4667  0.4745\n",
       "  0.5843  0.5373  0.5059  ...   0.4588  0.4745  0.4824\n",
       "           ...             ⋱             ...          \n",
       " -0.0275 -0.0353 -0.1216  ...   0.5137  0.4745  0.4510\n",
       " -0.0118 -0.0353 -0.1294  ...   0.4902  0.4824  0.4667\n",
       " -0.0275 -0.0431 -0.0824  ...   0.4588  0.4902  0.4980\n",
       "\n",
       "(3 ,1 ,.,.) = \n",
       "  0.5843  0.5765  0.5843  ...   0.5451  0.5608  0.5686\n",
       "  0.6235  0.6078  0.5765  ...   0.5451  0.5451  0.5529\n",
       "  0.6549  0.6078  0.5843  ...   0.5373  0.5529  0.5608\n",
       "           ...             ⋱             ...          \n",
       " -0.2549 -0.2627 -0.3412  ...   0.5765  0.5373  0.5216\n",
       " -0.2392 -0.2627 -0.3412  ...   0.5529  0.5451  0.5294\n",
       " -0.2471 -0.2627 -0.2941  ...   0.5216  0.5608  0.5608\n",
       "\n",
       "(3 ,2 ,.,.) = \n",
       "  0.6235  0.6157  0.6157  ...   0.5608  0.5765  0.5843\n",
       "  0.6627  0.6471  0.6157  ...   0.5608  0.5608  0.5686\n",
       "  0.6941  0.6471  0.6157  ...   0.5529  0.5686  0.5765\n",
       "           ...             ⋱             ...          \n",
       " -0.5294 -0.5294 -0.5922  ...   0.6000  0.5608  0.5373\n",
       " -0.5059 -0.5294 -0.5922  ...   0.5765  0.5686  0.5451\n",
       " -0.5216 -0.5294 -0.5608  ...   0.5451  0.5843  0.5843\n",
       "[torch.cuda.FloatTensor of size 4x3x32x32 (GPU 0)]"
      ]
     },
     "execution_count": 24,
     "metadata": {},
     "output_type": "execute_result"
    }
   ],
   "source": [
    "inputs.cuda()"
   ]
  },
  {
   "cell_type": "code",
   "execution_count": 29,
   "metadata": {
    "collapsed": true
   },
   "outputs": [],
   "source": [
    "inputs = inputs.cuda()\n",
    "labels = labels.cuda()"
   ]
  },
  {
   "cell_type": "code",
   "execution_count": 30,
   "metadata": {
    "collapsed": true
   },
   "outputs": [],
   "source": [
    "outputs = net(inputs)"
   ]
  },
  {
   "cell_type": "code",
   "execution_count": 31,
   "metadata": {},
   "outputs": [
    {
     "data": {
      "text/plain": [
       "Variable containing:\n",
       "-0.0700  2.5308 -2.2110 -0.0538 -2.5689 -0.6222 -1.1495 -0.3539  2.2907  2.5845\n",
       " 4.3148 -1.7716  1.9649 -1.1523  1.3715 -1.3376 -2.6143 -3.0948  4.0024 -1.6358\n",
       "-0.7171  3.2906 -2.2250 -0.0333 -1.4046 -0.9158  1.2587 -1.3805 -1.3799  4.5937\n",
       "-0.4694 -4.9059  2.9438  1.7659  2.1228  2.8001 -1.1809  0.6998 -1.4667 -2.8538\n",
       "[torch.cuda.FloatTensor of size 4x10 (GPU 0)]"
      ]
     },
     "execution_count": 31,
     "metadata": {},
     "output_type": "execute_result"
    }
   ],
   "source": [
    "outputs"
   ]
  },
  {
   "cell_type": "code",
   "execution_count": null,
   "metadata": {
    "collapsed": true
   },
   "outputs": [],
   "source": []
  }
 ],
 "metadata": {
  "kernelspec": {
   "display_name": "Python 3",
   "language": "python",
   "name": "python3"
  },
  "language_info": {
   "codemirror_mode": {
    "name": "ipython",
    "version": 3
   },
   "file_extension": ".py",
   "mimetype": "text/x-python",
   "name": "python",
   "nbconvert_exporter": "python",
   "pygments_lexer": "ipython3",
   "version": "3.6.2"
  }
 },
 "nbformat": 4,
 "nbformat_minor": 2
}
